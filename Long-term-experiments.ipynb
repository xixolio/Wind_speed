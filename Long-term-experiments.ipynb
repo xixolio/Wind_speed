{
 "cells": [
  {
   "cell_type": "code",
   "execution_count": 9,
   "metadata": {},
   "outputs": [],
   "source": [
    "import sys\n",
    "sys.path.append('C:/Users/iaaraya/Documents/CIARP/Wind_speed/data/')\n",
    "sys.path.append('C:/Users/iaaraya/Documents/CIARP/Wind_speed/model_and_functions/')\n",
    "sys.path.append('/home/iaraya/CIARP/data/')\n",
    "sys.path.append('/home/iaraya/CIARP/model_and_functions/')\n",
    "from keras.layers import SimpleRNN, LSTM, Input, Dense, Lambda, GaussianNoise, Bidirectional\n",
    "from keras.models import Model\n",
    "from keras.optimizers import Adadelta,SGD, Adam\n",
    "#from multiplicative_lstm import MultiplicativeLSTM\n",
    "import numpy as np\n",
    "import pandas as pd\n",
    "#from data_processing2 import get_data\n",
    "import matplotlib.pyplot as plt\n",
    "import simple_LSTM as sLSTM\n",
    "import LSTM_Ms as Ms\n",
    "import data_processing\n",
    "from importlib import reload\n",
    "reload(data_processing)\n",
    "import copy\n",
    "import os"
   ]
  },
  {
   "cell_type": "code",
   "execution_count": 27,
   "metadata": {},
   "outputs": [],
   "source": [
    "time_steps = 24\n",
    "lag = 1"
   ]
  },
  {
   "cell_type": "code",
   "execution_count": 28,
   "metadata": {},
   "outputs": [
    {
     "name": "stdout",
     "output_type": "stream",
     "text": [
      "19536\n",
      "19536\n",
      "5860\n"
     ]
    }
   ],
   "source": [
    "training_inputs, validation_inputs, testing_inputs, training_outputs, validation_outputs,\\\n",
    "        testing_outputs,vmins, vmaxs = data_processing.get_data('data/', 'no_mvs_b08.csv', time_steps, lag, overlap=False, number_of_sets=1)"
   ]
  },
  {
   "cell_type": "code",
   "execution_count": 39,
   "metadata": {},
   "outputs": [
    {
     "name": "stdout",
     "output_type": "stream",
     "text": [
      "62609 3479 3479\n"
     ]
    }
   ],
   "source": [
    "print(len(training_inputs[0]), len(validation_inputs[0]), len(testing_inputs[0]))"
   ]
  },
  {
   "cell_type": "code",
   "execution_count": 120,
   "metadata": {},
   "outputs": [],
   "source": [
    "import tensorflow as tf\n",
    "\n",
    "os.environ['CUDA_VISIBLE_DEVICES']='0' # gpu='0' o gpu='1'\n",
    "###################################\n",
    "config = tf.ConfigProto()\n",
    "config.gpu_options.allow_growth = True#Utiliza la memoria que necesita de manera dinamica, puede ser o no en bloque.\n",
    "config.gpu_options.per_process_gpu_memory_fraction = 0.5#20%de la ram,\n",
    "session = tf.Session(config=config)\n",
    "########"
   ]
  },
  {
   "cell_type": "code",
   "execution_count": 91,
   "metadata": {},
   "outputs": [],
   "source": [
    "# Create the model\n",
    "Ms_model = Ms.LSTM_Ms([1,24],[24,4],[1],[1,10],[20,20],0.001,0)\n",
    "\n"
   ]
  },
  {
   "cell_type": "markdown",
   "metadata": {},
   "source": [
    "epochs = 10\n",
    "results = np.zeros((epochs,120))\n",
    "for epoch in range(epochs):\n",
    "    Ms_model.fit(training_inputs[0], training_outputs[0],epochs=5)\n",
    "    N = len(validation_inputs[0])\n",
    "    sims = 20\n",
    "    outputs = np.zeros((sims,120,N))\n",
    "    for j in range(sims):\n",
    "        print(j)\n",
    "        data = []\n",
    "        for i in range(120):\n",
    "            noise = np.random.normal(0,0.2,size=(N,1))\n",
    "            temp_data = copy.deepcopy(validation_inputs[0])\n",
    "            temp_data[:,i] = temp_data[:,i] + noise            \n",
    "            data.append(temp_data)\n",
    "\n",
    "        data = np.concatenate(data)\n",
    "        outputs[j,:,:]  = Ms_model.predict(data).reshape(120,N)\n",
    "    results[epoch,:] = np.mean(np.std(outputs,axis=0),axis=1)\n",
    "    #Ms_model.predict()\n",
    "    np.savetxt(\"long_term_analysis.txt\",results)"
   ]
  },
  {
   "cell_type": "code",
   "execution_count": 161,
   "metadata": {},
   "outputs": [
    {
     "name": "stdout",
     "output_type": "stream",
     "text": [
      "Epoch 1/10\n",
      "17537/17537 [==============================] - 14s 782us/step - loss: 0.0329\n",
      "Epoch 2/10\n",
      "17537/17537 [==============================] - 8s 459us/step - loss: 0.0155\n",
      "Epoch 3/10\n",
      "10048/17537 [================>.............] - ETA: 3s - loss: 0.0129- ETA: 4s - loss: "
     ]
    },
    {
     "ename": "KeyboardInterrupt",
     "evalue": "",
     "output_type": "error",
     "traceback": [
      "\u001b[1;31m---------------------------------------------------------------------------\u001b[0m",
      "\u001b[1;31mKeyboardInterrupt\u001b[0m                         Traceback (most recent call last)",
      "\u001b[1;32m<ipython-input-161-62305cc1c334>\u001b[0m in \u001b[0;36m<module>\u001b[1;34m\u001b[0m\n\u001b[0;32m     33\u001b[0m         \u001b[0mMs_model\u001b[0m \u001b[1;33m=\u001b[0m \u001b[0mMs\u001b[0m\u001b[1;33m.\u001b[0m\u001b[0mLSTM_Ms\u001b[0m\u001b[1;33m(\u001b[0m\u001b[1;33m[\u001b[0m\u001b[1;36m1\u001b[0m\u001b[1;33m,\u001b[0m\u001b[1;36m24\u001b[0m\u001b[1;33m]\u001b[0m\u001b[1;33m,\u001b[0m\u001b[1;33m[\u001b[0m\u001b[1;36m24\u001b[0m\u001b[1;33m,\u001b[0m\u001b[0mint\u001b[0m\u001b[1;33m(\u001b[0m\u001b[0mdimension\u001b[0m\u001b[1;33m/\u001b[0m\u001b[1;36m24\u001b[0m\u001b[1;33m)\u001b[0m\u001b[1;33m]\u001b[0m\u001b[1;33m,\u001b[0m\u001b[1;33m[\u001b[0m\u001b[1;36m1\u001b[0m\u001b[1;33m]\u001b[0m\u001b[1;33m,\u001b[0m\u001b[1;33m[\u001b[0m\u001b[1;36m1\u001b[0m\u001b[1;33m,\u001b[0m\u001b[1;36m10\u001b[0m\u001b[1;33m]\u001b[0m\u001b[1;33m,\u001b[0m\u001b[1;33m[\u001b[0m\u001b[1;36m20\u001b[0m\u001b[1;33m,\u001b[0m\u001b[1;36m20\u001b[0m\u001b[1;33m]\u001b[0m\u001b[1;33m,\u001b[0m\u001b[1;36m0.001\u001b[0m\u001b[1;33m,\u001b[0m\u001b[1;36m0\u001b[0m\u001b[1;33m)\u001b[0m\u001b[1;33m\u001b[0m\u001b[0m\n\u001b[0;32m     34\u001b[0m \u001b[1;33m\u001b[0m\u001b[0m\n\u001b[1;32m---> 35\u001b[1;33m         \u001b[0mMs_model\u001b[0m\u001b[1;33m.\u001b[0m\u001b[0mfit\u001b[0m\u001b[1;33m(\u001b[0m\u001b[0mdata\u001b[0m\u001b[1;33m.\u001b[0m\u001b[0mreshape\u001b[0m\u001b[1;33m(\u001b[0m\u001b[1;33m-\u001b[0m\u001b[1;36m1\u001b[0m\u001b[1;33m,\u001b[0m\u001b[0mdimension\u001b[0m\u001b[1;33m,\u001b[0m\u001b[1;36m1\u001b[0m\u001b[1;33m)\u001b[0m\u001b[1;33m,\u001b[0m\u001b[0moutputs\u001b[0m\u001b[1;33m,\u001b[0m\u001b[0mepochs\u001b[0m\u001b[1;33m=\u001b[0m\u001b[1;36m10\u001b[0m\u001b[1;33m)\u001b[0m\u001b[1;33m\u001b[0m\u001b[0m\n\u001b[0m\u001b[0;32m     36\u001b[0m         \u001b[1;31m# test what the model learns\u001b[0m\u001b[1;33m\u001b[0m\u001b[1;33m\u001b[0m\u001b[0m\n\u001b[0;32m     37\u001b[0m         \u001b[1;31m# Validation input is padded\u001b[0m\u001b[1;33m\u001b[0m\u001b[1;33m\u001b[0m\u001b[0m\n",
      "\u001b[1;32m~\\AppData\\Local\\Continuum\\anaconda2\\envs\\python36\\lib\\site-packages\\keras\\engine\\training.py\u001b[0m in \u001b[0;36mfit\u001b[1;34m(self, x, y, batch_size, epochs, verbose, callbacks, validation_split, validation_data, shuffle, class_weight, sample_weight, initial_epoch, steps_per_epoch, validation_steps, **kwargs)\u001b[0m\n\u001b[0;32m   1037\u001b[0m                                         \u001b[0minitial_epoch\u001b[0m\u001b[1;33m=\u001b[0m\u001b[0minitial_epoch\u001b[0m\u001b[1;33m,\u001b[0m\u001b[1;33m\u001b[0m\u001b[0m\n\u001b[0;32m   1038\u001b[0m                                         \u001b[0msteps_per_epoch\u001b[0m\u001b[1;33m=\u001b[0m\u001b[0msteps_per_epoch\u001b[0m\u001b[1;33m,\u001b[0m\u001b[1;33m\u001b[0m\u001b[0m\n\u001b[1;32m-> 1039\u001b[1;33m                                         validation_steps=validation_steps)\n\u001b[0m\u001b[0;32m   1040\u001b[0m \u001b[1;33m\u001b[0m\u001b[0m\n\u001b[0;32m   1041\u001b[0m     def evaluate(self, x=None, y=None,\n",
      "\u001b[1;32m~\\AppData\\Local\\Continuum\\anaconda2\\envs\\python36\\lib\\site-packages\\keras\\engine\\training_arrays.py\u001b[0m in \u001b[0;36mfit_loop\u001b[1;34m(model, f, ins, out_labels, batch_size, epochs, verbose, callbacks, val_f, val_ins, shuffle, callback_metrics, initial_epoch, steps_per_epoch, validation_steps)\u001b[0m\n\u001b[0;32m    197\u001b[0m                     \u001b[0mins_batch\u001b[0m\u001b[1;33m[\u001b[0m\u001b[0mi\u001b[0m\u001b[1;33m]\u001b[0m \u001b[1;33m=\u001b[0m \u001b[0mins_batch\u001b[0m\u001b[1;33m[\u001b[0m\u001b[0mi\u001b[0m\u001b[1;33m]\u001b[0m\u001b[1;33m.\u001b[0m\u001b[0mtoarray\u001b[0m\u001b[1;33m(\u001b[0m\u001b[1;33m)\u001b[0m\u001b[1;33m\u001b[0m\u001b[0m\n\u001b[0;32m    198\u001b[0m \u001b[1;33m\u001b[0m\u001b[0m\n\u001b[1;32m--> 199\u001b[1;33m                 \u001b[0mouts\u001b[0m \u001b[1;33m=\u001b[0m \u001b[0mf\u001b[0m\u001b[1;33m(\u001b[0m\u001b[0mins_batch\u001b[0m\u001b[1;33m)\u001b[0m\u001b[1;33m\u001b[0m\u001b[0m\n\u001b[0m\u001b[0;32m    200\u001b[0m                 \u001b[0mouts\u001b[0m \u001b[1;33m=\u001b[0m \u001b[0mto_list\u001b[0m\u001b[1;33m(\u001b[0m\u001b[0mouts\u001b[0m\u001b[1;33m)\u001b[0m\u001b[1;33m\u001b[0m\u001b[0m\n\u001b[0;32m    201\u001b[0m                 \u001b[1;32mfor\u001b[0m \u001b[0ml\u001b[0m\u001b[1;33m,\u001b[0m \u001b[0mo\u001b[0m \u001b[1;32min\u001b[0m \u001b[0mzip\u001b[0m\u001b[1;33m(\u001b[0m\u001b[0mout_labels\u001b[0m\u001b[1;33m,\u001b[0m \u001b[0mouts\u001b[0m\u001b[1;33m)\u001b[0m\u001b[1;33m:\u001b[0m\u001b[1;33m\u001b[0m\u001b[0m\n",
      "\u001b[1;32m~\\AppData\\Local\\Continuum\\anaconda2\\envs\\python36\\lib\\site-packages\\keras\\backend\\tensorflow_backend.py\u001b[0m in \u001b[0;36m__call__\u001b[1;34m(self, inputs)\u001b[0m\n\u001b[0;32m   2713\u001b[0m                 \u001b[1;32mreturn\u001b[0m \u001b[0mself\u001b[0m\u001b[1;33m.\u001b[0m\u001b[0m_legacy_call\u001b[0m\u001b[1;33m(\u001b[0m\u001b[0minputs\u001b[0m\u001b[1;33m)\u001b[0m\u001b[1;33m\u001b[0m\u001b[0m\n\u001b[0;32m   2714\u001b[0m \u001b[1;33m\u001b[0m\u001b[0m\n\u001b[1;32m-> 2715\u001b[1;33m             \u001b[1;32mreturn\u001b[0m \u001b[0mself\u001b[0m\u001b[1;33m.\u001b[0m\u001b[0m_call\u001b[0m\u001b[1;33m(\u001b[0m\u001b[0minputs\u001b[0m\u001b[1;33m)\u001b[0m\u001b[1;33m\u001b[0m\u001b[0m\n\u001b[0m\u001b[0;32m   2716\u001b[0m         \u001b[1;32melse\u001b[0m\u001b[1;33m:\u001b[0m\u001b[1;33m\u001b[0m\u001b[0m\n\u001b[0;32m   2717\u001b[0m             \u001b[1;32mif\u001b[0m \u001b[0mpy_any\u001b[0m\u001b[1;33m(\u001b[0m\u001b[0mis_tensor\u001b[0m\u001b[1;33m(\u001b[0m\u001b[0mx\u001b[0m\u001b[1;33m)\u001b[0m \u001b[1;32mfor\u001b[0m \u001b[0mx\u001b[0m \u001b[1;32min\u001b[0m \u001b[0minputs\u001b[0m\u001b[1;33m)\u001b[0m\u001b[1;33m:\u001b[0m\u001b[1;33m\u001b[0m\u001b[0m\n",
      "\u001b[1;32m~\\AppData\\Local\\Continuum\\anaconda2\\envs\\python36\\lib\\site-packages\\keras\\backend\\tensorflow_backend.py\u001b[0m in \u001b[0;36m_call\u001b[1;34m(self, inputs)\u001b[0m\n\u001b[0;32m   2673\u001b[0m             \u001b[0mfetched\u001b[0m \u001b[1;33m=\u001b[0m \u001b[0mself\u001b[0m\u001b[1;33m.\u001b[0m\u001b[0m_callable_fn\u001b[0m\u001b[1;33m(\u001b[0m\u001b[1;33m*\u001b[0m\u001b[0marray_vals\u001b[0m\u001b[1;33m,\u001b[0m \u001b[0mrun_metadata\u001b[0m\u001b[1;33m=\u001b[0m\u001b[0mself\u001b[0m\u001b[1;33m.\u001b[0m\u001b[0mrun_metadata\u001b[0m\u001b[1;33m)\u001b[0m\u001b[1;33m\u001b[0m\u001b[0m\n\u001b[0;32m   2674\u001b[0m         \u001b[1;32melse\u001b[0m\u001b[1;33m:\u001b[0m\u001b[1;33m\u001b[0m\u001b[0m\n\u001b[1;32m-> 2675\u001b[1;33m             \u001b[0mfetched\u001b[0m \u001b[1;33m=\u001b[0m \u001b[0mself\u001b[0m\u001b[1;33m.\u001b[0m\u001b[0m_callable_fn\u001b[0m\u001b[1;33m(\u001b[0m\u001b[1;33m*\u001b[0m\u001b[0marray_vals\u001b[0m\u001b[1;33m)\u001b[0m\u001b[1;33m\u001b[0m\u001b[0m\n\u001b[0m\u001b[0;32m   2676\u001b[0m         \u001b[1;32mreturn\u001b[0m \u001b[0mfetched\u001b[0m\u001b[1;33m[\u001b[0m\u001b[1;33m:\u001b[0m\u001b[0mlen\u001b[0m\u001b[1;33m(\u001b[0m\u001b[0mself\u001b[0m\u001b[1;33m.\u001b[0m\u001b[0moutputs\u001b[0m\u001b[1;33m)\u001b[0m\u001b[1;33m]\u001b[0m\u001b[1;33m\u001b[0m\u001b[0m\n\u001b[0;32m   2677\u001b[0m \u001b[1;33m\u001b[0m\u001b[0m\n",
      "\u001b[1;32m~\\AppData\\Local\\Continuum\\anaconda2\\envs\\python36\\lib\\site-packages\\tensorflow\\python\\client\\session.py\u001b[0m in \u001b[0;36m__call__\u001b[1;34m(self, *args, **kwargs)\u001b[0m\n\u001b[0;32m   1397\u001b[0m           ret = tf_session.TF_SessionRunCallable(\n\u001b[0;32m   1398\u001b[0m               \u001b[0mself\u001b[0m\u001b[1;33m.\u001b[0m\u001b[0m_session\u001b[0m\u001b[1;33m.\u001b[0m\u001b[0m_session\u001b[0m\u001b[1;33m,\u001b[0m \u001b[0mself\u001b[0m\u001b[1;33m.\u001b[0m\u001b[0m_handle\u001b[0m\u001b[1;33m,\u001b[0m \u001b[0margs\u001b[0m\u001b[1;33m,\u001b[0m \u001b[0mstatus\u001b[0m\u001b[1;33m,\u001b[0m\u001b[1;33m\u001b[0m\u001b[0m\n\u001b[1;32m-> 1399\u001b[1;33m               run_metadata_ptr)\n\u001b[0m\u001b[0;32m   1400\u001b[0m         \u001b[1;32mif\u001b[0m \u001b[0mrun_metadata\u001b[0m\u001b[1;33m:\u001b[0m\u001b[1;33m\u001b[0m\u001b[0m\n\u001b[0;32m   1401\u001b[0m           \u001b[0mproto_data\u001b[0m \u001b[1;33m=\u001b[0m \u001b[0mtf_session\u001b[0m\u001b[1;33m.\u001b[0m\u001b[0mTF_GetBuffer\u001b[0m\u001b[1;33m(\u001b[0m\u001b[0mrun_metadata_ptr\u001b[0m\u001b[1;33m)\u001b[0m\u001b[1;33m\u001b[0m\u001b[0m\n",
      "\u001b[1;31mKeyboardInterrupt\u001b[0m: "
     ]
    }
   ],
   "source": [
    "mse_results = np.zeros((11))\n",
    "overall_results = np.zeros((11,200))\n",
    "for k in range(3,11):\n",
    "    mse = []\n",
    "    for r in range(5):\n",
    "        sims = 1\n",
    "        padding = 10*k\n",
    "        length = 24+padding\n",
    "        # Generate data and train the model\n",
    "        if padding == 0:\n",
    "                data = copy.deepcopy(training_inputs[0])\n",
    "                outputs = copy.deepcopy(training_outputs[0]) \n",
    "                dimension = length\n",
    "\n",
    "        else:\n",
    "            N = len(training_inputs[0])\n",
    "            data = []\n",
    "            outputs = []\n",
    "            for i in range(sims):\n",
    "                temp_data = copy.deepcopy(training_inputs[0]).reshape(N,-1)\n",
    "                noise = np.random.normal(0.5,0.2,size=(N,padding))\n",
    "                temp_data = np.concatenate((temp_data,noise),axis=1) \n",
    "                if (padding+24)%24 != 0:\n",
    "                    zeros = np.zeros((N,24-(padding+24)%24))\n",
    "                    temp_data = np.concatenate((zeros,temp_data),axis=1) \n",
    "                data.append(temp_data)\n",
    "                outputs.append(training_outputs[0])\n",
    "            data = np.concatenate(data)\n",
    "            outputs = np.concatenate(outputs)\n",
    "            dimension = length + 24-length%24\n",
    "\n",
    "\n",
    "        Ms_model = Ms.LSTM_Ms([1,24],[24,int(dimension/24)],[1],[1,10],[20,20],0.001,0)\n",
    "\n",
    "        Ms_model.fit(data.reshape(-1,dimension,1),outputs,epochs=10)\n",
    "        # test what the model learns\n",
    "        # Validation input is padded\n",
    "        if padding > 0:\n",
    "            sims = 1\n",
    "            N = len(validation_inputs[0])\n",
    "            data = []\n",
    "            outputs = []\n",
    "            for i in range(sims):\n",
    "                noise = np.random.normal(0.5,0.2,size=(N,padding))\n",
    "                temp_data = copy.deepcopy(validation_inputs[0]).reshape(N,-1)\n",
    "                temp_data = np.concatenate((temp_data,noise),axis=1)  \n",
    "                if (padding+24)%24 != 0:\n",
    "                    zeros = np.zeros((N,24-(padding+24)%24))\n",
    "                    temp_data = np.concatenate((zeros,temp_data),axis=1) \n",
    "                data.append(temp_data)\n",
    "            data = np.concatenate(data)\n",
    "        else:\n",
    "            data = copy.deepcopy(validation_inputs[0].reshape(-1,24))\n",
    "\n",
    "        mse.append(Ms_model.evaluate(data.reshape(-1,dimension,1),validation_outputs[0][:,0]))\n",
    "        print(mse_results[k])\n",
    "        # Validation inputs are modified\n",
    "        N = len(data)\n",
    "        sims = 10\n",
    "        outputs = np.zeros((sims,length,N))\n",
    "        if r == 0:\n",
    "            for j in range(sims):\n",
    "                print(j)\n",
    "                data2 = []\n",
    "                for i in range(length):\n",
    "                    noise = np.random.normal(0,0.2,size=(N))\n",
    "                    temp_data = copy.deepcopy(data)\n",
    "                    temp_data[:,i] = temp_data[:,i] + noise \n",
    "                    #if (padding+24)%24 != 0:\n",
    "                    #    zeros = np.zeros((N,24-(padding+24)%24))\n",
    "                    #    temp_data = np.concatenate((zeros,temp_data),axis=1) \n",
    "                    data2.append(temp_data)\n",
    "\n",
    "                data2 = np.concatenate(data2).reshape(-1,dimension,1)\n",
    "                outputs[j,:,:]  = Ms_model.predict(data2).reshape(length,N)\n",
    "            results = np.mean(np.std(outputs,axis=0),axis=1)\n",
    "            overall_results[k,-length:] = results\n",
    "            #Ms_model.predict()\n",
    "\n",
    "            np.savetxt(\"long_term_analysis_Ms_LSTM10.txt\",overall_results)\n",
    "    mse_results[k] = np.mean(mse)\n",
    "    np.savetxt(\"mse_long_term_Ms_LSTM10.txt\",mse_results)\n",
    "    "
   ]
  },
  {
   "cell_type": "code",
   "execution_count": 160,
   "metadata": {},
   "outputs": [
    {
     "data": {
      "text/plain": [
       "27"
      ]
     },
     "execution_count": 160,
     "metadata": {},
     "output_type": "execute_result"
    }
   ],
   "source": [
    "length"
   ]
  },
  {
   "cell_type": "markdown",
   "metadata": {},
   "source": [
    "mse_results = np.zeros((11))\n",
    "overall_results = np.zeros((11,35))\n",
    "for k in range(0,11):   \n",
    "    sims = 1\n",
    "    padding = k\n",
    "    \n",
    "    # Generate data and train the model\n",
    "    if padding == 0:\n",
    "            data = copy.deepcopy(training_inputs[0])\n",
    "            outputs = copy.deepcopy(training_outputs[0])  \n",
    "    else:\n",
    "        N = len(training_inputs[0])\n",
    "        data = []\n",
    "        outputs = []\n",
    "        for i in range(sims):\n",
    "            temp_data = copy.deepcopy(training_inputs[0]).reshape(N,-1)\n",
    "            noise = np.random.normal(0.5,0.2,size=(N,padding))\n",
    "            temp_data = np.concatenate((temp_data,noise),axis=1) \n",
    "            #if (padding+24)%24 != 0:\n",
    "            #    zeros = np.zeros((N,24-(padding+24)%24))\n",
    "            #    temp_data = np.concatenate((zeros,temp_data),axis=1) \n",
    "            data.append(temp_data)\n",
    "            outputs.append(training_outputs[0])\n",
    "        data = np.concatenate(data)\n",
    "        outputs = np.concatenate(outputs)\n",
    "    \n",
    "    length = 24+k\n",
    "    smodel = sLSTM.model([20,20,20],lag,length,0,0.1)\n",
    "    smodel.fit(data.reshape(-1,length,1),outputs,epochs=10)\n",
    "    # test what the model learns\n",
    "    # Validation input is padded\n",
    "    if padding > 0:\n",
    "        sims = 1\n",
    "        N = len(validation_inputs[0])\n",
    "        data = []\n",
    "        outputs = []\n",
    "        for i in range(sims):\n",
    "            noise = np.random.normal(0.5,0.2,size=(N,padding))\n",
    "            temp_data = copy.deepcopy(validation_inputs[0]).reshape(N,-1)\n",
    "            temp_data = np.concatenate((temp_data,noise),axis=1)     \n",
    "            data.append(temp_data)\n",
    "        data = np.concatenate(data)\n",
    "    else:\n",
    "        data = copy.deepcopy(validation_inputs[0].reshape(-1,24))\n",
    "\n",
    "    mse_results[k] = smodel.evaluate(data.reshape(-1,length,1),validation_outputs[0][:,0])\n",
    "    # Validation inputs are modified\n",
    "    N = len(data)\n",
    "    sims = 10\n",
    "    outputs = np.zeros((sims,length,N))\n",
    "    for j in range(sims):\n",
    "        print(j)\n",
    "        data2 = []\n",
    "        for i in range(length):\n",
    "            noise = np.random.normal(0,0.2,size=(N))\n",
    "            temp_data = copy.deepcopy(data)\n",
    "            temp_data[:,i] = temp_data[:,i] + noise            \n",
    "            data2.append(temp_data)\n",
    "\n",
    "        data2 = np.concatenate(data2).reshape(-1,length,1)\n",
    "        outputs[j,:,:]  = smodel.predict(data2).reshape(length,N)\n",
    "    results = np.mean(np.std(outputs,axis=0),axis=1)\n",
    "    overall_results[k,-length:] = results\n",
    "    #Ms_model.predict()\n",
    "    #np.savetxt(\"long_term_analysis2.txt\",overall_results)\n",
    "    np.savetxt(\"long_term_analysis_LSTM.txt\",overall_results)\n",
    "    np.savetxt(\"mse_long_term_LSTM.txt\",mse_results)"
   ]
  },
  {
   "cell_type": "markdown",
   "metadata": {},
   "source": [
    "length = 24\n",
    "padding = 0\n",
    "if padding > 0:\n",
    "    sims = 1\n",
    "    N = len(validation_inputs[0])\n",
    "    data = []\n",
    "    outputs = []\n",
    "    for i in range(sims):\n",
    "        noise = np.random.normal(0,0.2,size=(N,padding))\n",
    "        temp_data = copy.deepcopy(validation_inputs[0]).reshape(N,-1)\n",
    "        temp_data = np.concatenate((temp_data,noise),axis=1)     \n",
    "        if (padding+24)%24 != 0:\n",
    "            noise2 = np.random.normal(0,0.2,size=(N,24-(padding+24)%24))\n",
    "            temp_data = np.concatenate((noise2,temp_data),axis=1) \n",
    "        data.append(temp_data)\n",
    "    data = np.concatenate(data)\n",
    "else:\n",
    "    data = copy.deepcopy(validation_inputs[0].reshape(-1,24))\n",
    "\n",
    "\n",
    "N = len(data)\n",
    "sims = 10\n",
    "outputs = np.zeros((sims,length,N))\n",
    "for j in range(sims):\n",
    "    print(j)\n",
    "    data2 = []\n",
    "    for i in range(length):\n",
    "        noise = np.random.normal(0,0.2,size=(N))\n",
    "        temp_data = copy.deepcopy(data)\n",
    "        temp_data[:,i] = temp_data[:,i] + noise            \n",
    "        data2.append(temp_data)\n",
    "\n",
    "    data2 = np.concatenate(data2).reshape(-1,length,1)\n",
    "    outputs[j,:,:]  = smodel.predict(data2).reshape(length,N)\n",
    "results = np.mean(np.std(outputs,axis=0),axis=1)\n",
    "#Ms_model.predict()\n",
    "#np.savetxt(\"long_term_analysis.txt\",results)"
   ]
  },
  {
   "cell_type": "code",
   "execution_count": 22,
   "metadata": {},
   "outputs": [
    {
     "data": {
      "image/png": "[encoded data removed]",
      "text/plain": [
       "<Figure size 432x288 with 1 Axes>"
      ]
     },
     "metadata": {
      "needs_background": "light"
     },
     "output_type": "display_data"
    }
   ],
   "source": [
    "variability = np.mean(np.std(tpredictions,axis=2),axis=2)\n",
    "variability2 = np.mean(np.std(tpredictions2,axis=2),axis=2)\n",
    "\n",
    "plt.figure(figsize=(8,6))\n",
    "ax =plt.subplot(111)\n",
    "for i in range(10):\n",
    "    plt.plot(variability[i])\n",
    "    #plt.plot(variability2[i])\n",
    "\n",
    "ax.spines[\"top\"].set_visible(False)  \n",
    "ax.spines[\"right\"].set_visible(False)  \n",
    "\n",
    "ax.get_xaxis().tick_bottom()  \n",
    "ax.get_yaxis().tick_left()  \n",
    "\n",
    "plt.ylabel(\"Variability\", fontsize=16)\n",
    "plt.xlabel(\"Variability\", fontsize=16)\n",
    "\n",
    "\n",
    "plt.show()"
   ]
  },
  {
   "cell_type": "code",
   "execution_count": 81,
   "metadata": {},
   "outputs": [
    {
     "name": "stdout",
     "output_type": "stream",
     "text": [
      "Train on 6296 samples, validate on 353 samples\n",
      "Epoch 1/50\n",
      "6296/6296 [==============================] - 4s 609us/step - loss: 0.0355 - val_loss: 0.0111\n",
      "Epoch 2/50\n",
      "6296/6296 [==============================] - 1s 190us/step - loss: 0.0146 - val_loss: 0.0071\n",
      "Epoch 3/50\n",
      "6296/6296 [==============================] - 1s 172us/step - loss: 0.0105 - val_loss: 0.0062\n",
      "Epoch 4/50\n",
      "6296/6296 [==============================] - 2s 277us/step - loss: 0.0092 - val_loss: 0.0059\n",
      "Epoch 5/50\n",
      "6296/6296 [==============================] - 1s 206us/step - loss: 0.0084 - val_loss: 0.0055\n",
      "Epoch 6/50\n",
      "6296/6296 [==============================] - 1s 188us/step - loss: 0.0080 - val_loss: 0.0051\n",
      "Epoch 7/50\n",
      "6296/6296 [==============================] - 1s 208us/step - loss: 0.0077 - val_loss: 0.0049\n",
      "Epoch 8/50\n",
      "6296/6296 [==============================] - 1s 188us/step - loss: 0.0073 - val_loss: 0.0047\n",
      "Epoch 9/50\n",
      "6296/6296 [==============================] - 2s 259us/step - loss: 0.0072 - val_loss: 0.0047\n",
      "Epoch 10/50\n",
      "6296/6296 [==============================] - 2s 275us/step - loss: 0.0070 - val_loss: 0.0045\n",
      "Epoch 11/50\n",
      "6296/6296 [==============================] - 1s 225us/step - loss: 0.0068 - val_loss: 0.0043\n",
      "Epoch 12/50\n",
      "6296/6296 [==============================] - 1s 215us/step - loss: 0.0068 - val_loss: 0.0043\n",
      "Epoch 13/50\n",
      "6296/6296 [==============================] - 1s 204us/step - loss: 0.0066 - val_loss: 0.0044\n",
      "Epoch 14/50\n",
      "6296/6296 [==============================] - 1s 228us/step - loss: 0.0066 - val_loss: 0.0041\n",
      "Epoch 15/50\n",
      "6296/6296 [==============================] - 1s 186us/step - loss: 0.0065 - val_loss: 0.0042\n",
      "Epoch 16/50\n",
      "6296/6296 [==============================] - 2s 277us/step - loss: 0.0064 - val_loss: 0.0043\n",
      "Epoch 17/50\n",
      "6296/6296 [==============================] - 2s 321us/step - loss: 0.0064 - val_loss: 0.0040\n",
      "Epoch 18/50\n",
      "6296/6296 [==============================] - 1s 232us/step - loss: 0.0063 - val_loss: 0.0040\n",
      "Epoch 19/50\n",
      "6296/6296 [==============================] - 2s 257us/step - loss: 0.0063 - val_loss: 0.0042\n",
      "Epoch 20/50\n",
      "6296/6296 [==============================] - 2s 289us/step - loss: 0.0061 - val_loss: 0.0039\n",
      "Epoch 21/50\n",
      "6296/6296 [==============================] - 2s 255us/step - loss: 0.0061 - val_loss: 0.0040\n",
      "Epoch 22/50\n",
      "6296/6296 [==============================] - 2s 253us/step - loss: 0.0062 - val_loss: 0.0039\n",
      "Epoch 23/50\n",
      "6296/6296 [==============================] - 2s 326us/step - loss: 0.0062 - val_loss: 0.0038\n",
      "Epoch 24/50\n",
      " 640/6296 [==>...........................] - ETA: 1s - loss: 0.0054"
     ]
    },
    {
     "ename": "KeyboardInterrupt",
     "evalue": "",
     "output_type": "error",
     "traceback": [
      "\u001b[1;31m---------------------------------------------------------------------------\u001b[0m",
      "\u001b[1;31mKeyboardInterrupt\u001b[0m                         Traceback (most recent call last)",
      "\u001b[1;32m<ipython-input-81-1f929f0dcb74>\u001b[0m in \u001b[0;36m<module>\u001b[1;34m\u001b[0m\n\u001b[1;32m----> 1\u001b[1;33m \u001b[0mMs_model\u001b[0m\u001b[1;33m.\u001b[0m\u001b[0mfit\u001b[0m\u001b[1;33m(\u001b[0m\u001b[0mtraining_inputs\u001b[0m\u001b[1;33m[\u001b[0m\u001b[1;36m0\u001b[0m\u001b[1;33m]\u001b[0m\u001b[1;33m,\u001b[0m \u001b[0mtraining_outputs\u001b[0m\u001b[1;33m[\u001b[0m\u001b[1;36m0\u001b[0m\u001b[1;33m]\u001b[0m\u001b[1;33m,\u001b[0m \u001b[0mepochs\u001b[0m\u001b[1;33m=\u001b[0m\u001b[1;36m50\u001b[0m\u001b[1;33m,\u001b[0m\u001b[0mvalidation_data\u001b[0m\u001b[1;33m=\u001b[0m\u001b[1;33m(\u001b[0m\u001b[0mvalidation_inputs\u001b[0m\u001b[1;33m[\u001b[0m\u001b[1;36m0\u001b[0m\u001b[1;33m]\u001b[0m\u001b[1;33m,\u001b[0m\u001b[0mvalidation_outputs\u001b[0m\u001b[1;33m[\u001b[0m\u001b[1;36m0\u001b[0m\u001b[1;33m]\u001b[0m\u001b[1;33m[\u001b[0m\u001b[1;33m:\u001b[0m\u001b[1;33m,\u001b[0m\u001b[1;36m0\u001b[0m\u001b[1;33m]\u001b[0m\u001b[1;33m)\u001b[0m\u001b[1;33m)\u001b[0m\u001b[1;33m\u001b[0m\u001b[0m\n\u001b[0m",
      "\u001b[1;32m~\\AppData\\Local\\Continuum\\anaconda2\\envs\\python36\\lib\\site-packages\\keras\\engine\\training.py\u001b[0m in \u001b[0;36mfit\u001b[1;34m(self, x, y, batch_size, epochs, verbose, callbacks, validation_split, validation_data, shuffle, class_weight, sample_weight, initial_epoch, steps_per_epoch, validation_steps, **kwargs)\u001b[0m\n\u001b[0;32m   1037\u001b[0m                                         \u001b[0minitial_epoch\u001b[0m\u001b[1;33m=\u001b[0m\u001b[0minitial_epoch\u001b[0m\u001b[1;33m,\u001b[0m\u001b[1;33m\u001b[0m\u001b[0m\n\u001b[0;32m   1038\u001b[0m                                         \u001b[0msteps_per_epoch\u001b[0m\u001b[1;33m=\u001b[0m\u001b[0msteps_per_epoch\u001b[0m\u001b[1;33m,\u001b[0m\u001b[1;33m\u001b[0m\u001b[0m\n\u001b[1;32m-> 1039\u001b[1;33m                                         validation_steps=validation_steps)\n\u001b[0m\u001b[0;32m   1040\u001b[0m \u001b[1;33m\u001b[0m\u001b[0m\n\u001b[0;32m   1041\u001b[0m     def evaluate(self, x=None, y=None,\n",
      "\u001b[1;32m~\\AppData\\Local\\Continuum\\anaconda2\\envs\\python36\\lib\\site-packages\\keras\\engine\\training_arrays.py\u001b[0m in \u001b[0;36mfit_loop\u001b[1;34m(model, f, ins, out_labels, batch_size, epochs, verbose, callbacks, val_f, val_ins, shuffle, callback_metrics, initial_epoch, steps_per_epoch, validation_steps)\u001b[0m\n\u001b[0;32m    197\u001b[0m                     \u001b[0mins_batch\u001b[0m\u001b[1;33m[\u001b[0m\u001b[0mi\u001b[0m\u001b[1;33m]\u001b[0m \u001b[1;33m=\u001b[0m \u001b[0mins_batch\u001b[0m\u001b[1;33m[\u001b[0m\u001b[0mi\u001b[0m\u001b[1;33m]\u001b[0m\u001b[1;33m.\u001b[0m\u001b[0mtoarray\u001b[0m\u001b[1;33m(\u001b[0m\u001b[1;33m)\u001b[0m\u001b[1;33m\u001b[0m\u001b[0m\n\u001b[0;32m    198\u001b[0m \u001b[1;33m\u001b[0m\u001b[0m\n\u001b[1;32m--> 199\u001b[1;33m                 \u001b[0mouts\u001b[0m \u001b[1;33m=\u001b[0m \u001b[0mf\u001b[0m\u001b[1;33m(\u001b[0m\u001b[0mins_batch\u001b[0m\u001b[1;33m)\u001b[0m\u001b[1;33m\u001b[0m\u001b[0m\n\u001b[0m\u001b[0;32m    200\u001b[0m                 \u001b[0mouts\u001b[0m \u001b[1;33m=\u001b[0m \u001b[0mto_list\u001b[0m\u001b[1;33m(\u001b[0m\u001b[0mouts\u001b[0m\u001b[1;33m)\u001b[0m\u001b[1;33m\u001b[0m\u001b[0m\n\u001b[0;32m    201\u001b[0m                 \u001b[1;32mfor\u001b[0m \u001b[0ml\u001b[0m\u001b[1;33m,\u001b[0m \u001b[0mo\u001b[0m \u001b[1;32min\u001b[0m \u001b[0mzip\u001b[0m\u001b[1;33m(\u001b[0m\u001b[0mout_labels\u001b[0m\u001b[1;33m,\u001b[0m \u001b[0mouts\u001b[0m\u001b[1;33m)\u001b[0m\u001b[1;33m:\u001b[0m\u001b[1;33m\u001b[0m\u001b[0m\n",
      "\u001b[1;32m~\\AppData\\Local\\Continuum\\anaconda2\\envs\\python36\\lib\\site-packages\\keras\\backend\\tensorflow_backend.py\u001b[0m in \u001b[0;36m__call__\u001b[1;34m(self, inputs)\u001b[0m\n\u001b[0;32m   2713\u001b[0m                 \u001b[1;32mreturn\u001b[0m \u001b[0mself\u001b[0m\u001b[1;33m.\u001b[0m\u001b[0m_legacy_call\u001b[0m\u001b[1;33m(\u001b[0m\u001b[0minputs\u001b[0m\u001b[1;33m)\u001b[0m\u001b[1;33m\u001b[0m\u001b[0m\n\u001b[0;32m   2714\u001b[0m \u001b[1;33m\u001b[0m\u001b[0m\n\u001b[1;32m-> 2715\u001b[1;33m             \u001b[1;32mreturn\u001b[0m \u001b[0mself\u001b[0m\u001b[1;33m.\u001b[0m\u001b[0m_call\u001b[0m\u001b[1;33m(\u001b[0m\u001b[0minputs\u001b[0m\u001b[1;33m)\u001b[0m\u001b[1;33m\u001b[0m\u001b[0m\n\u001b[0m\u001b[0;32m   2716\u001b[0m         \u001b[1;32melse\u001b[0m\u001b[1;33m:\u001b[0m\u001b[1;33m\u001b[0m\u001b[0m\n\u001b[0;32m   2717\u001b[0m             \u001b[1;32mif\u001b[0m \u001b[0mpy_any\u001b[0m\u001b[1;33m(\u001b[0m\u001b[0mis_tensor\u001b[0m\u001b[1;33m(\u001b[0m\u001b[0mx\u001b[0m\u001b[1;33m)\u001b[0m \u001b[1;32mfor\u001b[0m \u001b[0mx\u001b[0m \u001b[1;32min\u001b[0m \u001b[0minputs\u001b[0m\u001b[1;33m)\u001b[0m\u001b[1;33m:\u001b[0m\u001b[1;33m\u001b[0m\u001b[0m\n",
      "\u001b[1;32m~\\AppData\\Local\\Continuum\\anaconda2\\envs\\python36\\lib\\site-packages\\keras\\backend\\tensorflow_backend.py\u001b[0m in \u001b[0;36m_call\u001b[1;34m(self, inputs)\u001b[0m\n\u001b[0;32m   2673\u001b[0m             \u001b[0mfetched\u001b[0m \u001b[1;33m=\u001b[0m \u001b[0mself\u001b[0m\u001b[1;33m.\u001b[0m\u001b[0m_callable_fn\u001b[0m\u001b[1;33m(\u001b[0m\u001b[1;33m*\u001b[0m\u001b[0marray_vals\u001b[0m\u001b[1;33m,\u001b[0m \u001b[0mrun_metadata\u001b[0m\u001b[1;33m=\u001b[0m\u001b[0mself\u001b[0m\u001b[1;33m.\u001b[0m\u001b[0mrun_metadata\u001b[0m\u001b[1;33m)\u001b[0m\u001b[1;33m\u001b[0m\u001b[0m\n\u001b[0;32m   2674\u001b[0m         \u001b[1;32melse\u001b[0m\u001b[1;33m:\u001b[0m\u001b[1;33m\u001b[0m\u001b[0m\n\u001b[1;32m-> 2675\u001b[1;33m             \u001b[0mfetched\u001b[0m \u001b[1;33m=\u001b[0m \u001b[0mself\u001b[0m\u001b[1;33m.\u001b[0m\u001b[0m_callable_fn\u001b[0m\u001b[1;33m(\u001b[0m\u001b[1;33m*\u001b[0m\u001b[0marray_vals\u001b[0m\u001b[1;33m)\u001b[0m\u001b[1;33m\u001b[0m\u001b[0m\n\u001b[0m\u001b[0;32m   2676\u001b[0m         \u001b[1;32mreturn\u001b[0m \u001b[0mfetched\u001b[0m\u001b[1;33m[\u001b[0m\u001b[1;33m:\u001b[0m\u001b[0mlen\u001b[0m\u001b[1;33m(\u001b[0m\u001b[0mself\u001b[0m\u001b[1;33m.\u001b[0m\u001b[0moutputs\u001b[0m\u001b[1;33m)\u001b[0m\u001b[1;33m]\u001b[0m\u001b[1;33m\u001b[0m\u001b[0m\n\u001b[0;32m   2677\u001b[0m \u001b[1;33m\u001b[0m\u001b[0m\n",
      "\u001b[1;32m~\\AppData\\Local\\Continuum\\anaconda2\\envs\\python36\\lib\\site-packages\\tensorflow\\python\\client\\session.py\u001b[0m in \u001b[0;36m__call__\u001b[1;34m(self, *args, **kwargs)\u001b[0m\n\u001b[0;32m   1397\u001b[0m           ret = tf_session.TF_SessionRunCallable(\n\u001b[0;32m   1398\u001b[0m               \u001b[0mself\u001b[0m\u001b[1;33m.\u001b[0m\u001b[0m_session\u001b[0m\u001b[1;33m.\u001b[0m\u001b[0m_session\u001b[0m\u001b[1;33m,\u001b[0m \u001b[0mself\u001b[0m\u001b[1;33m.\u001b[0m\u001b[0m_handle\u001b[0m\u001b[1;33m,\u001b[0m \u001b[0margs\u001b[0m\u001b[1;33m,\u001b[0m \u001b[0mstatus\u001b[0m\u001b[1;33m,\u001b[0m\u001b[1;33m\u001b[0m\u001b[0m\n\u001b[1;32m-> 1399\u001b[1;33m               run_metadata_ptr)\n\u001b[0m\u001b[0;32m   1400\u001b[0m         \u001b[1;32mif\u001b[0m \u001b[0mrun_metadata\u001b[0m\u001b[1;33m:\u001b[0m\u001b[1;33m\u001b[0m\u001b[0m\n\u001b[0;32m   1401\u001b[0m           \u001b[0mproto_data\u001b[0m \u001b[1;33m=\u001b[0m \u001b[0mtf_session\u001b[0m\u001b[1;33m.\u001b[0m\u001b[0mTF_GetBuffer\u001b[0m\u001b[1;33m(\u001b[0m\u001b[0mrun_metadata_ptr\u001b[0m\u001b[1;33m)\u001b[0m\u001b[1;33m\u001b[0m\u001b[0m\n",
      "\u001b[1;31mKeyboardInterrupt\u001b[0m: "
     ]
    }
   ],
   "source": [
    "Ms_model.fit(training_inputs[0], training_outputs[0], epochs=50,validation_data=(validation_inputs[0],validation_outputs[0][:,0]))"
   ]
  },
  {
   "cell_type": "code",
   "execution_count": 66,
   "metadata": {},
   "outputs": [
    {
     "data": {
      "text/plain": [
       "(353, 240, 1)"
      ]
     },
     "execution_count": 66,
     "metadata": {},
     "output_type": "execute_result"
    }
   ],
   "source": []
  },
  {
   "cell_type": "code",
   "execution_count": null,
   "metadata": {},
   "outputs": [],
   "source": []
  }
 ],
 "metadata": {
  "kernelspec": {
   "display_name": "Python 3",
   "language": "python",
   "name": "python3"
  },
  "language_info": {
   "codemirror_mode": {
    "name": "ipython",
    "version": 3
   },
   "file_extension": ".py",
   "mimetype": "text/x-python",
   "name": "python",
   "nbconvert_exporter": "python",
   "pygments_lexer": "ipython3",
   "version": "3.6.6"
  }
 },
 "nbformat": 4,
 "nbformat_minor": 2
}
